# -*- coding: utf-8 -*-
"""
Created on Tue Mar 16 17:37:30 2021

@author: pok99
"""


# Comparing runtime between selection sort and sort library
from random import randint
import time

# Generate 10000 random integer numbers

array=[]
for _ in range(10000):
    array.append(randint(1,100)) # Random integer number between 1~100

# Measuring selection sort's runtime performance
    
start_time = time.time()

for i in range(len(array)):
    min_index = i # Smallest element's index
    for j in range(i+1, len(array)):
        if array[min_index] > array[j]:
            min_index= j
    array[i], array[min_index] = array[min_index], array[i] #Swapping

end_time = time.time()
print("Runtime Performance of selection sort:", end_time - start_time ) # Showing the runtime


array2=[]
for _ in range(10000):
    array2.append(randint(1,100)) # Random integer number between 1~100

# Sort Algorithm from default library

start_time = time.time()
array2.sort()

end_time=time.time() 
print("Sort library runtime:", end_time-start_time)


